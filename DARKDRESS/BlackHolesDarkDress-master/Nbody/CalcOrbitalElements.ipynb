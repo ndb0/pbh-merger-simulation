{
 "cells": [
  {
   "cell_type": "markdown",
   "metadata": {},
   "source": [
    "# Calculating the orbital elements for simulations\n"
   ]
  },
  {
   "cell_type": "code",
   "execution_count": 28,
   "metadata": {},
   "outputs": [],
   "source": [
    "%matplotlib inline\n",
    "\n",
    "from __future__ import division\n",
    "\n",
    "from pygadgetreader import *\n",
    "\n",
    "import numpy as np\n",
    "import matplotlib.pyplot as pl\n",
    "import matplotlib as mpl\n",
    "from tqdm import tqdm\n",
    "import sys\n",
    "\n",
    "#----- MATPLOTLIB paramaters ---------\n",
    "mpl.rcParams.update({'font.size': 18,'font.family':'serif'})\n",
    "\n",
    "mpl.rcParams['xtick.major.size'] = 7\n",
    "mpl.rcParams['xtick.major.width'] = 1\n",
    "mpl.rcParams['xtick.minor.size'] = 3\n",
    "mpl.rcParams['xtick.minor.width'] = 1\n",
    "mpl.rcParams['ytick.major.size'] = 7\n",
    "mpl.rcParams['ytick.major.width'] = 1\n",
    "mpl.rcParams['ytick.minor.size'] = 3\n",
    "mpl.rcParams['ytick.minor.width'] = 1\n",
    "mpl.rcParams['ytick.right'] = True\n",
    "mpl.rc('text', usetex=True)\n",
    "#--------------------------------------\n",
    "\n",
    "from scipy.interpolate import interp1d\n",
    "from scipy.integrate import quad\n"
   ]
  },
  {
   "cell_type": "markdown",
   "metadata": {},
   "source": [
    "### Some constants and parameters\n",
    "\n",
    "You should specify the name of the simulation with `simID`, as well as the total number of snapshots - this varies between simulations, so you should check the 'out/' folder of each simulation to check. "
   ]
  },
  {
   "cell_type": "code",
   "execution_count": 29,
   "metadata": {},
   "outputs": [
    {
     "name": "stdout",
     "output_type": "stream",
     "text": [
      "Loading output from folder:  sims/M30_a0.01_lo_bin_e0.995_full/out/\n"
     ]
    }
   ],
   "source": [
    "G_N = 4.302e-3 #(pc/solar mass) (km/s)^2\n",
    "\n",
    "simID = \"M30_a0.01_lo_bin_e0.995_full\"\n",
    "Nframes = 2001\n",
    "\n",
    "#simID = \"M1_a0.002_hi_bin_e0.995\"\n",
    "#Nframes = 550\n",
    "\n",
    "rootdir = \"sims/\" + simID + \"/out/\"\n",
    "\n",
    "print \"Loading output from folder: \", rootdir\n",
    "\n",
    "M_PBH = readsnap(rootdir+\"snapshot_000\", \"mass\", 1, suppress=1)[0]"
   ]
  },
  {
   "cell_type": "code",
   "execution_count": 30,
   "metadata": {},
   "outputs": [
    {
     "name": "stdout",
     "output_type": "stream",
     "text": [
      "   Number of PBHs: 2\n",
      "   Number of DM particles: [18080     0     0     0]\n",
      "   DM particle masses: [ 0.00034321  0.          0.          0.        ]\n"
     ]
    }
   ],
   "source": [
    "#Read in the first header file\n",
    "part_string = [\"dmcount\", \"diskcount\",\"bulgecount\", \"starcount\",\"bndrycount\"]\n",
    "\n",
    "nParticles = np.zeros(5, dtype='int')\n",
    "for i in range(5):\n",
    "    nParticles[i] = readheader(rootdir+\"snapshot_000\", part_string[i])\n",
    "\n",
    "nPBH = nParticles[0]\n",
    "nDM = nParticles[1:]\n",
    "print \"   Number of PBHs:\", nPBH\n",
    "print \"   Number of DM particles:\", nDM\n",
    "\n",
    "mDM = np.zeros(4)\n",
    "for i in range(4):\n",
    "    #print nDM[i]\n",
    "    if (nDM[i] > 0):\n",
    "        #print readsnap(rootdir+\"snapshot_000\", \"mass\", i+2, suppress=1)[0]\n",
    "        mDM[i] = readsnap(rootdir+\"snapshot_000\", \"mass\", i+2, suppress=1)[0]\n",
    "\n",
    "print \"   DM particle masses:\", mDM\n",
    "\n",
    "r_tr = 1.0\n",
    "aPBH = 1.0\n",
    "\n",
    "scaling = 1e-5\n"
   ]
  },
  {
   "cell_type": "markdown",
   "metadata": {},
   "source": [
    "#### Functions for reading in and calculating simulation properties"
   ]
  },
  {
   "cell_type": "code",
   "execution_count": 31,
   "metadata": {},
   "outputs": [],
   "source": [
    "def Getv_PBH(fid):\n",
    "    id = format(fid, '03d')\n",
    "    vPBH = readsnap(rootdir+\"snapshot_\" + str(id), \"vel\", 1, suppress=1)\n",
    "    return vPBH[0,:] - vPBH[1,:]\n",
    "\n",
    "def Getr_PBH(fid):\n",
    "    id = format(fid, '03d')\n",
    "    xPBH = scaling*readsnap(rootdir+\"snapshot_\" + str(id), \"pos\", 1, suppress=1)\n",
    "    return xPBH[0,:] - xPBH[1,:]\n",
    "    "
   ]
  },
  {
   "cell_type": "markdown",
   "metadata": {},
   "source": [
    "#### Functions for calculating the semi-major axis and eccentricity"
   ]
  },
  {
   "cell_type": "code",
   "execution_count": 32,
   "metadata": {},
   "outputs": [],
   "source": [
    "mu1 = 2.0*G_N*M_PBH\n",
    "\n",
    "def specific_energy(r, v_abs):   \n",
    "    return 0.5*(v_abs)**2 - (mu1/r)\n",
    "\n",
    "def specific_angmom(x,v):\n",
    "    h = np.cross(x,v)\n",
    "    return np.sqrt(np.sum(h**2))\n",
    "\n",
    "def semimajoraxis(x,v):\n",
    "    r = np.sqrt(np.sum(x**2))*1\n",
    "    v_abs = np.sqrt(np.sum(v**2))\n",
    "\n",
    "    eps = specific_energy(r, v_abs)\n",
    "    return -0.5*mu1/eps\n",
    "\n",
    "\n",
    "def ecc(x, v): \n",
    "    r0 = 1\n",
    "    r = np.sqrt(np.sum(x**2))*r0\n",
    "    v_abs = np.sqrt(np.sum(v**2))\n",
    "    \n",
    "    eps = specific_energy(r, v_abs)\n",
    "    h = specific_angmom(x*r0,v)\n",
    "    \n",
    "    return np.sqrt(1.0+2.0*eps*h**2/mu1**2)"
   ]
  },
  {
   "cell_type": "markdown",
   "metadata": {},
   "source": [
    "#### Get times of each snapshot"
   ]
  },
  {
   "cell_type": "code",
   "execution_count": 33,
   "metadata": {},
   "outputs": [
    {
     "name": "stderr",
     "output_type": "stream",
     "text": [
      "100%|██████████| 2001/2001 [00:01<00:00, 1920.09it/s]\n"
     ]
    }
   ],
   "source": [
    "dt = 9.785e-3 #kyr \n",
    "\n",
    "def GetSimTime(fid):\n",
    "    id = format(fid, '03d')\n",
    "    t = readheader(rootdir+\"snapshot_\" + id, \"time\")\n",
    "    return t\n",
    "\n",
    "tlist = np.zeros(Nframes)\n",
    "for i in tqdm(range(Nframes)):\n",
    "    tlist[i] = GetSimTime(i)\n",
    "    \n",
    "tvals = tlist*dt"
   ]
  },
  {
   "cell_type": "markdown",
   "metadata": {},
   "source": [
    "#### Calculating + plotting $a$ and $e$ of the PBH pair\n",
    "\n",
    "Note that here `e` is the eccentricity of the PBH-PBH system (i.e. as if there were no DM)..."
   ]
  },
  {
   "cell_type": "code",
   "execution_count": 34,
   "metadata": {},
   "outputs": [
    {
     "name": "stderr",
     "output_type": "stream",
     "text": [
      "100%|██████████| 2001/2001 [00:03<00:00, 662.70it/s]"
     ]
    },
    {
     "name": "stdout",
     "output_type": "stream",
     "text": [
      "Final semi-major axis [pc]: 0.00129788226136\n",
      "Final eccentricity: 0.960376444091\n"
     ]
    },
    {
     "name": "stderr",
     "output_type": "stream",
     "text": [
      "\n"
     ]
    }
   ],
   "source": [
    "e_list = np.zeros(Nframes)\n",
    "a_list = np.zeros(Nframes)\n",
    "\n",
    "for i in tqdm(range(Nframes)):\n",
    "    v1 = Getv_PBH(i)\n",
    "    r1 = Getr_PBH(i)\n",
    "    \n",
    "    a_list[i] = semimajoraxis(r1,v1)\n",
    "    e_list[i] = ecc(r1, v1)\n",
    "    \n",
    "print \"Final semi-major axis [pc]:\", np.mean(a_list[-10:])\n",
    "print \"Final eccentricity:\", np.mean(e_list[-10:])"
   ]
  },
  {
   "cell_type": "code",
   "execution_count": 35,
   "metadata": {},
   "outputs": [
    {
     "data": {
      "image/png": "[encoded data removed]",
      "text/plain": [
       "<matplotlib.figure.Figure at 0x115d7a3d0>"
      ]
     },
     "metadata": {},
     "output_type": "display_data"
    }
   ],
   "source": [
    "fig, ax1 = pl.subplots(figsize=(7.5,5))\n",
    "                                  \n",
    "ax1.semilogy(tvals,a_list)\n",
    "#ax1.set_ylim(5e-4, 5e-2)\n",
    "ax1.set_xlabel(r\"Simulation time [kyr]\")\n",
    "ax1.set_ylabel(r\"Semi-major axis [pc]\")\n",
    "\n",
    "pl.tight_layout()"
   ]
  },
  {
   "cell_type": "code",
   "execution_count": 36,
   "metadata": {},
   "outputs": [
    {
     "data": {
      "image/png": "[encoded data removed]",
      "text/plain": [
       "<matplotlib.figure.Figure at 0x1154b8950>"
      ]
     },
     "metadata": {},
     "output_type": "display_data"
    }
   ],
   "source": [
    "fig, ax1 = pl.subplots(figsize=(7.5,5))\n",
    "                                  \n",
    "ax1.semilogy(tvals,1-e_list)\n",
    "\n",
    "#ax1.set_ylim(1e-3, 1.0)\n",
    "ax1.set_xlabel(r\"Simulation time [kyr]\")\n",
    "ax1.set_ylabel(r\"$(1-e)\")\n",
    "\n",
    "pl.tight_layout()"
   ]
  }
 ],
 "metadata": {
  "kernelspec": {
   "display_name": "Python 2",
   "language": "python",
   "name": "python2"
  },
  "language_info": {
   "codemirror_mode": {
    "name": "ipython",
    "version": 2
   },
   "file_extension": ".py",
   "mimetype": "text/x-python",
   "name": "python",
   "nbconvert_exporter": "python",
   "pygments_lexer": "ipython2",
   "version": "2.7.14"
  }
 },
 "nbformat": 4,
 "nbformat_minor": 2
}
