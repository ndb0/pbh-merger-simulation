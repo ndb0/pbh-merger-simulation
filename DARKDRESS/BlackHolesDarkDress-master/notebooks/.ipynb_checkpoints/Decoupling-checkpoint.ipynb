{
 "cells": [
  {
   "cell_type": "markdown",
   "metadata": {},
   "source": [
    "# Decoupling!"
   ]
  },
  {
   "cell_type": "code",
   "execution_count": null,
   "metadata": {},
   "outputs": [],
   "source": [
    "%matplotlib inline\n",
    "\n",
    "from __future__ import division\n",
    "\n",
    "import numpy as np\n",
    "import matplotlib.pyplot as pl\n",
    "import matplotlib as mpl\n",
    "\n",
    "#----- MATPLOTLIB paramaters ---------\n",
    "mpl.rcParams.update({'font.size': 18,'font.family':'serif'})\n",
    "\n",
    "mpl.rcParams['xtick.major.size'] = 7\n",
    "mpl.rcParams['xtick.major.width'] = 1\n",
    "mpl.rcParams['xtick.minor.size'] = 3\n",
    "mpl.rcParams['xtick.minor.width'] = 1\n",
    "mpl.rcParams['ytick.major.size'] = 7\n",
    "mpl.rcParams['ytick.major.width'] = 1\n",
    "mpl.rcParams['ytick.minor.size'] = 3\n",
    "mpl.rcParams['ytick.minor.width'] = 1\n",
    "#--------------------------------------\n",
    "\n",
    "from scipy.interpolate import interp1d\n",
    "from scipy.integrate import quad, odeint, solve_ivp, ode\n",
    "import sympy as sp\n",
    "\n",
    "x1 = sp.symbols('x1')"
   ]
  },
  {
   "cell_type": "markdown",
   "metadata": {},
   "source": [
    "**Set up the equations of motion**"
   ]
  },
  {
   "cell_type": "code",
   "execution_count": null,
   "metadata": {},
   "outputs": [],
   "source": [
    "def h_fun(s):\n",
    "    return sp.sqrt(s**-3 + s**-4)\n",
    "\n",
    "deriv = sp.diff(h_fun(x1), x1)\n",
    "\n",
    "def hprime_fun(s):\n",
    "    return float(deriv.subs(x1, s))\n",
    "\n",
    "def jacob(y,s):\n",
    "    chi = y[0]\n",
    "    chiprime = y[1]\n",
    "    h = 1.0*h_fun(s)\n",
    "    hp = 1.0*hprime_fun(s)\n",
    "    return [[0,1],[(s*hp + h)/(s**2*h) - 2*np.sign(chi)*chi**-3*(L*(s*h)**2)**-1, -s*(s*hp + h)/(s**2*h) ]]\n",
    "\n",
    "def dyds(y,s):\n",
    "    chi = y[0]\n",
    "    chiprime = y[1]\n",
    "    \n",
    "    h = 1.0*h_fun(s)\n",
    "    hp = 1.0*hprime_fun(s)\n",
    "    \n",
    "    #term2 = 0.0\n",
    "    #if (chi/L > 1e-5):\n",
    "    #    term2 = (L*(s*h)**2*(chi**2))**-1\n",
    "        \n",
    "    \n",
    "    eqn = -((s*chiprime - chi)*(s*hp + h)/(s**2*h) + np.sign(chi)*(L*(s*h*chi)**2)**-1)#\n",
    "    return [chiprime, eqn]"
   ]
  },
  {
   "cell_type": "code",
   "execution_count": null,
   "metadata": {},
   "outputs": [],
   "source": []
  },
  {
   "cell_type": "markdown",
   "metadata": {},
   "source": [
    "**Solving the equations of motions**"
   ]
  },
  {
   "cell_type": "code",
   "execution_count": null,
   "metadata": {},
   "outputs": [],
   "source": [
    "L = 0.001\n",
    "s0 = 1e-4*L\n",
    "\n",
    "#Initial conditions\n",
    "chi_init = [s0, 1.0]\n",
    "\n",
    "s_list = np.logspace(np.log10(s0), np.log10(0.75*L), 100)\n",
    "ys,output = odeint(dyds, chi_init, s_list, Dfun=jacob, full_output=True)\n",
    "\n",
    "#print ys"
   ]
  },
  {
   "cell_type": "code",
   "execution_count": null,
   "metadata": {},
   "outputs": [],
   "source": []
  },
  {
   "cell_type": "code",
   "execution_count": null,
   "metadata": {},
   "outputs": [],
   "source": [
    "pl.figure()\n",
    "\n",
    "pl.plot(s_list/L, ys[:,0]/L)\n",
    "pl.xlabel(r\"$s/\\lambda$\")\n",
    "pl.ylabel(r\"$\\chi/\\lambda$\")\n",
    "pl.axvline(1.0/3.0, linestyle='--', color='k')\n",
    "pl.title(r\"$\\lambda = \" + str(L)+\"$\")\n",
    "pl.show()\n",
    "\n",
    "pl.figure()\n",
    "\n",
    "pl.plot(s_list/L, ys[:,1]/L)\n",
    "pl.xlabel(r\"$s/\\lambda$\")\n",
    "pl.ylabel(r\"$\\chi'/\\lambda$\")\n",
    "pl.title(r\"$\\lambda = \" + str(L)+\"$\")\n",
    "pl.show()\n",
    "\n"
   ]
  },
  {
   "cell_type": "code",
   "execution_count": null,
   "metadata": {},
   "outputs": [],
   "source": [
    "chi_interp = interp1d(s_list, ys[:,0])\n",
    "\n",
    "y_list = np.linspace(1e-3*L, 0.5*L)\n",
    "\n",
    "integ1 = lambda y: y**-4*h_fun(y)**-1*(chi_interp(y))**2\n",
    "integ2 = lambda y: (1+y**(3.0/2.0))**2*y**-4*h_fun(y)**-1*(chi_interp(y))**2\n",
    "\n",
    "pl.figure()\n",
    "pl.plot(y_list, np.vectorize(integ1)(y_list), label='Without halo')\n",
    "pl.plot(y_list, np.vectorize(integ2)(y_list), label='With halo')\n",
    "pl.legend()\n",
    "pl.show()\n",
    "\n",
    "print(quad(integ1, s0, 0.5*L)[0]/L)\n",
    "print(quad(integ2, s0, 0.5*L)[0]/L)"
   ]
  },
  {
   "cell_type": "markdown",
   "metadata": {},
   "source": [
    "**Solving it a different way...**"
   ]
  },
  {
   "cell_type": "code",
   "execution_count": null,
   "metadata": {},
   "outputs": [],
   "source": [
    "r = ode(dyds, None).set_integrator('dopri5', safety=0.5, beta=0.1)\n",
    "r.set_initial_value(chi_init, s0)\n",
    "dt = 1e-2*L\n",
    "t1 = 2.0*L\n",
    "\n",
    "r_list = [s0,]\n",
    "t_list = [s0,]\n",
    "while r.successful() and r.t < t1:\n",
    "    res = r.integrate(r.t+dt)\n",
    "    t_list = np.append(t_list, r.t+dt)\n",
    "    print(r.y)\n",
    "    r_list = np.append(r_list,r.y[0])\n",
    "    #print(r.t+dt, r.integrate(r.t+dt))\n",
    "    "
   ]
  },
  {
   "cell_type": "code",
   "execution_count": null,
   "metadata": {},
   "outputs": [],
   "source": [
    "pl.figure()\n",
    "pl.plot(t_list,r_list)\n",
    "pl.ylim(-1, 1)\n",
    "pl.show()"
   ]
  },
  {
   "cell_type": "code",
   "execution_count": null,
   "metadata": {},
   "outputs": [],
   "source": []
  }
 ],
 "metadata": {
  "kernelspec": {
   "display_name": "Python 3",
   "language": "python",
   "name": "python3"
  },
  "language_info": {
   "codemirror_mode": {
    "name": "ipython",
    "version": 3
   },
   "file_extension": ".py",
   "mimetype": "text/x-python",
   "name": "python",
   "nbconvert_exporter": "python",
   "pygments_lexer": "ipython3",
   "version": "3.6.4"
  }
 },
 "nbformat": 4,
 "nbformat_minor": 2
}
